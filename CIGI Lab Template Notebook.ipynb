{
 "cells": [
  {
   "cell_type": "markdown",
   "metadata": {},
   "source": [
    "# CIGI Lab Jupyter Notebook Style Guide: Template Notebook"
   ]
  },
  {
   "cell_type": "markdown",
   "metadata": {},
   "source": [
    "This Notebook is a template for creating new Jupyter Notebooks according to the CIGI Lab style. This notebook is a companion to the CIGI Lab – Public-Facing Jupyter Notebook Checklist and Style Guide, which can be found at https://drive.google.com/file/d/1EJ_pSjX2IiNv8K8heGOLsXGHUxIIclrf/view?usp=sharing.\n",
    "\n",
    "Notebook author: **Rebecca Vandewalle**\n",
    "<br>Notebook created: Feb 10, 2021. Last updated: **Feb 12, 2021**"
   ]
  },
  {
   "cell_type": "markdown",
   "metadata": {},
   "source": [
    "**Style notes for Notebook start:**\n",
    "Include author and creation/update date on separate lines for better visibility"
   ]
  },
  {
   "cell_type": "markdown",
   "metadata": {},
   "source": [
    "## Notebook Outline:\n",
    "1. [Introduction](#intro)\n",
    "1. [Descriptive Text](#desc_text)\n",
    "    1. [Figures](#figs)\n",
    "    1. [Tables](#tables)\n",
    "    1. [Markdown vs. Html](#mkdwn_vs_html)\n",
    "1. [Working with Code Cells](#code)\n",
    "1. [References](#refs)"
   ]
  },
  {
   "cell_type": "markdown",
   "metadata": {},
   "source": [
    "**Style notes for Table of Contents:**\n",
    "Use autonumbering (ex. 1. 1. 1. and let Markdown number sections), and keep anchor ids to section topics rather than section order (ex. 'figs' rather than sect_1a). This will help if you decide to restructure the Notebook."
   ]
  },
  {
   "cell_type": "markdown",
   "metadata": {},
   "source": [
    "<a id='intro'></a>\n",
    "## Introduction"
   ]
  },
  {
   "cell_type": "markdown",
   "metadata": {},
   "source": [
    "This is a good spot to introduce the topic of the notebook and the problem. Should be a general overview but more detailed than the summary at the beginning of the notebook."
   ]
  },
  {
   "cell_type": "markdown",
   "metadata": {},
   "source": [
    "<a id='desc_text'></a>\n",
    "## Descriptive Text"
   ]
  },
  {
   "cell_type": "markdown",
   "metadata": {},
   "source": [
    "You can have multiple paragraphs in a cell or have one cell per paragraph depending on how you prefer to organize your text.\n",
    "\n",
    "Here is one way to add footnotes or references. [<sup>1</sup>](#wang_2010)"
   ]
  },
  {
   "cell_type": "markdown",
   "metadata": {},
   "source": [
    "<a id='figs'></a>\n",
    "### Figures"
   ]
  },
  {
   "cell_type": "markdown",
   "metadata": {},
   "source": [
    "Local and remote images can be added. Preferably store local images in an \"img\" folder. You can add images in Markdown, but `<img>` tags can be easier to work with."
   ]
  },
  {
   "cell_type": "markdown",
   "metadata": {},
   "source": [
    "This is an easy way to include an image using Markdown.\n",
    "\n",
    "![This is a cat](img/example_cat.jpg \"My cat picture\")\n",
    "\n",
    "**Figure 1**: An image of a cat, image created using Markdown"
   ]
  },
  {
   "cell_type": "markdown",
   "metadata": {},
   "source": [
    "Setting image properties such as width and float behavior is easier using html.\n",
    "\n",
    "<img src=\"img/example_cat.jpg\" width=\"200\" style=\"float: left; padding-right: 20px\">\n",
    "\n",
    "**Figure 2**: An image of a cat, image created using html `<img>` tag"
   ]
  },
  {
   "cell_type": "markdown",
   "metadata": {},
   "source": [
    "<a id='tables'></a>\n",
    "### Tables"
   ]
  },
  {
   "cell_type": "markdown",
   "metadata": {},
   "source": [
    "Tables can be created using Markdown, HTML, or from code output. Some examples follow. Tables should be described in the descriptive text and should include a table caption where relevant."
   ]
  },
  {
   "cell_type": "markdown",
   "metadata": {},
   "source": [
    "This is an example of a straightforward Markdown table.\n",
    "\n",
    "| Col 1 | Col 2 | Col 3 |\n",
    "| --- | --- | --- |\n",
    "| 2 | 4.5 | 6 |\n",
    "| 0 | 1.98 | 10|\n",
    "\n",
    "**Table 1**: An example table in Markdown\n",
    "\n",
    "This is an example of a table using HTML.\n",
    "\n",
    "<table>\n",
    "    <tr><th>Col 1</th><th>Col 2</th><th>Col 3</th></tr>\n",
    "    <tr><td>2</td><td>4.5</td><td>6</td></tr>\n",
    "    <tr><td>0</td><td>1.98</td><td>10</td></tr>\n",
    "    </table>\n",
    "\n",
    "**Table 1**: An example table in Markdown"
   ]
  },
  {
   "cell_type": "markdown",
   "metadata": {},
   "source": [
    "<a id='mkdwn_vs_html'></a>\n",
    "### Markdown vs. Html"
   ]
  },
  {
   "cell_type": "markdown",
   "metadata": {},
   "source": [
    "Generally stick with Markdown if you will primarily be using simple formatting. If you are often using more complex formatting that needs Html, it is better if you use Html throughout the Notebook."
   ]
  },
  {
   "cell_type": "markdown",
   "metadata": {},
   "source": [
    "<a id='code'></a>\n",
    "## Working with Code Cells"
   ]
  },
  {
   "cell_type": "markdown",
   "metadata": {},
   "source": [
    "New code should be written to conform to PEP8 style (https://www.python.org/dev/peps/pep-0008/). A useful PEP8 checker can be found here http://pep8online.com/ ."
   ]
  },
  {
   "cell_type": "markdown",
   "metadata": {},
   "source": [
    "Introduce code before inserting a code cell. Comments are optional for one line of code that is discribed in the text, but are needed for any longer code blocks."
   ]
  },
  {
   "cell_type": "code",
   "execution_count": 4,
   "metadata": {},
   "outputs": [
    {
     "data": {
      "text/plain": [
       "4"
      ]
     },
     "execution_count": 4,
     "metadata": {},
     "output_type": "execute_result"
    }
   ],
   "source": [
    "2+2"
   ]
  },
  {
   "cell_type": "markdown",
   "metadata": {},
   "source": [
    "The longer code block below should have a comment."
   ]
  },
  {
   "cell_type": "code",
   "execution_count": 5,
   "metadata": {},
   "outputs": [
    {
     "data": {
      "text/plain": [
       "4"
      ]
     },
     "execution_count": 5,
     "metadata": {},
     "output_type": "execute_result"
    }
   ],
   "source": [
    "# this block does something\n",
    "\n",
    "2+2\n",
    "2+2"
   ]
  },
  {
   "cell_type": "markdown",
   "metadata": {},
   "source": [
    "After introducing and demonstrating the code, it is good to explain what it did and how this relatses to the notebook theme. If showing multiple examples, demonstrate how the code sections relate to each other."
   ]
  },
  {
   "cell_type": "markdown",
   "metadata": {},
   "source": [
    "<a id='refs'></a>\n",
    "## References"
   ]
  },
  {
   "cell_type": "markdown",
   "metadata": {},
   "source": [
    "**Style notes for Table of Contents:**\n",
    "Link to each reference within the notebook. If citing many references, consider having each reference in its own cell so the link works better."
   ]
  },
  {
   "cell_type": "markdown",
   "metadata": {},
   "source": [
    "<span id='wang_2010'>Shaowen Wang (2010) A CyberGIS Framework for the Synthesis of Cyberinfrastructure, GIS, and Spatial Analysis, Annals of the Association of American Geographers, 100:3, 535-557, DOI: 10.1080/00045601003791243 </span>"
   ]
  },
  {
   "cell_type": "code",
   "execution_count": null,
   "metadata": {},
   "outputs": [],
   "source": []
  }
 ],
 "metadata": {
  "kernelspec": {
   "display_name": "Python 3",
   "language": "python",
   "name": "python3-0.8.0"
  },
  "language_info": {
   "codemirror_mode": {
    "name": "ipython",
    "version": 3
   },
   "file_extension": ".py",
   "mimetype": "text/x-python",
   "name": "python",
   "nbconvert_exporter": "python",
   "pygments_lexer": "ipython3",
   "version": "3.7.6"
  }
 },
 "nbformat": 4,
 "nbformat_minor": 4
}
